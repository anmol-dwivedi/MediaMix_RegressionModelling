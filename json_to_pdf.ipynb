{
 "cells": [
  {
   "cell_type": "code",
   "execution_count": 1,
   "id": "6f39fdfc-9c54-4b5a-8b83-e0275bf87bbb",
   "metadata": {},
   "outputs": [
    {
     "name": "stdout",
     "output_type": "stream",
     "text": [
      "Collecting fpdf\n",
      "  Using cached fpdf-1.7.2.tar.gz (39 kB)\n",
      "  Preparing metadata (setup.py): started\n",
      "  Preparing metadata (setup.py): finished with status 'done'\n",
      "Building wheels for collected packages: fpdf\n",
      "  Building wheel for fpdf (setup.py): started\n",
      "  Building wheel for fpdf (setup.py): finished with status 'done'\n",
      "  Created wheel for fpdf: filename=fpdf-1.7.2-py2.py3-none-any.whl size=40768 sha256=14192ccde7ce52e01764c6cebfe5893d79b583f24da4d0ca97e9a28118f2f74e\n",
      "  Stored in directory: c:\\users\\anmol\\appdata\\local\\pip\\cache\\wheels\\f9\\95\\ba\\f418094659025eb9611f17cbcaf2334236bf39a0c3453ea455\n",
      "Successfully built fpdf\n",
      "Installing collected packages: fpdf\n",
      "Successfully installed fpdf-1.7.2\n"
     ]
    }
   ],
   "source": [
    "!pip install fpdf"
   ]
  },
  {
   "cell_type": "code",
   "execution_count": 4,
   "id": "a2e90708-5c0f-4523-8686-e63e4ffd5548",
   "metadata": {},
   "outputs": [
    {
     "name": "stdout",
     "output_type": "stream",
     "text": [
      "Current Working Directory: C:\\Users\\anmol\\Desktop\\Sem 4\\Practicum\\Chatbot\n",
      "PDF successfully generated: chatbot_training_data.pdf\n"
     ]
    }
   ],
   "source": [
    "import json\n",
    "import os\n",
    "from fpdf import FPDF\n",
    "\n",
    "\n",
    "\n",
    "# change working directory\n",
    "os.chdir(r\"C:\\Users\\anmol\\Desktop\\Sem 4\\Practicum\\Chatbot\")\n",
    "print(\"Current Working Directory:\", os.getcwd())\n",
    "\n",
    "# Load the scraped data from JSON\n",
    "json_file = \"scrap_data.json\"  # Ensure your JSON file is in the same directory\n",
    "\n",
    "with open(json_file, \"r\", encoding=\"utf-8\") as file:\n",
    "    scraped_data = json.load(file)\n",
    "\n",
    "# Initialize PDF document\n",
    "pdf = FPDF()\n",
    "pdf.set_auto_page_break(auto=True, margin=15)\n",
    "pdf.set_left_margin(15)\n",
    "pdf.set_right_margin(15)\n",
    "\n",
    "# Title Page\n",
    "pdf.add_page()\n",
    "pdf.set_font(\"Arial\", \"B\", 16)\n",
    "pdf.cell(200, 10, \"Scraped Data for Chatbot Training\", ln=True, align=\"C\")\n",
    "pdf.ln(10)\n",
    "\n",
    "# Add content from scraped data\n",
    "pdf.set_font(\"Arial\", \"\", 12)\n",
    "for url, content in scraped_data.items():\n",
    "    pdf.add_page()\n",
    "    pdf.set_font(\"Arial\", \"B\", 14)\n",
    "    pdf.multi_cell(0, 10, f\"Source: {url}\\n\")\n",
    "    \n",
    "    pdf.set_font(\"Arial\", \"\", 12)\n",
    "    # pdf.multi_cell(0, 8, content)\n",
    "    pdf.multi_cell(0, 8, content.encode('latin-1', 'replace').decode('latin-1'))\n",
    "    pdf.ln(5)\n",
    "\n",
    "# Save the PDF\n",
    "pdf_filename = \"chatbot_training_data.pdf\"\n",
    "pdf.output(pdf_filename)\n",
    "\n",
    "# Confirm the PDF was created\n",
    "if os.path.exists(pdf_filename):\n",
    "    print(f\"PDF successfully generated: {pdf_filename}\")\n",
    "else:\n",
    "    print(\"Error: PDF file was not created.\")\n"
   ]
  },
  {
   "cell_type": "code",
   "execution_count": null,
   "id": "59ca7c65-1157-4ef1-82c0-97cba94b9263",
   "metadata": {},
   "outputs": [],
   "source": []
  }
 ],
 "metadata": {
  "kernelspec": {
   "display_name": "Python 3 (ipykernel)",
   "language": "python",
   "name": "python3"
  },
  "language_info": {
   "codemirror_mode": {
    "name": "ipython",
    "version": 3
   },
   "file_extension": ".py",
   "mimetype": "text/x-python",
   "name": "python",
   "nbconvert_exporter": "python",
   "pygments_lexer": "ipython3",
   "version": "3.10.16"
  }
 },
 "nbformat": 4,
 "nbformat_minor": 5
}
